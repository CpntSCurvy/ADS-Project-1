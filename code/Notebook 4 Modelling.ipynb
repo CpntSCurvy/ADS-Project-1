{
 "cells": [
  {
   "cell_type": "code",
   "execution_count": null,
   "source": [
    "#Building a machine Learning algorithm to predict the best zone to be in depending on the time of day "
   ],
   "outputs": [],
   "metadata": {}
  },
  {
   "cell_type": "code",
   "execution_count": 4,
   "source": [
    "from sklearn.model_selection import train_test_split # Newer versions\n",
    "import numpy as np\n",
    "import pandas as pd\n",
    "from sklearn.naive_bayes import GaussianNB\n",
    "from sklearn.dummy import DummyClassifier\n",
    "from sklearn.metrics import accuracy_score\n",
    "\n",
    "gnb= GaussianNB()\n",
    "zero_r = DummyClassifier(strategy='most_frequent')\n",
    "#Comparing both to a baseline classifier\n",
    "\n",
    "\n",
    "\n",
    "\n",
    "\n"
   ],
   "outputs": [],
   "metadata": {}
  },
  {
   "cell_type": "code",
   "execution_count": 6,
   "source": [
    "df=pd.read_csv('../preprocessed data/6monthdata.csv', sep=',')"
   ],
   "outputs": [],
   "metadata": {}
  },
  {
   "cell_type": "code",
   "execution_count": 7,
   "source": [
    "fullData = df.to_numpy()\n",
    "colNames = df.columns.to_numpy()\n",
    "\n",
    "\n",
    "\n",
    "print( colNames)\n",
    "\n",
    "total_amount = df['total_amount']\n",
    "\n"
   ],
   "outputs": [
    {
     "output_type": "stream",
     "name": "stdout",
     "text": [
      "['Unnamed: 0' 'VendorID' 'tpep_pickup_datetime' 'tpep_dropoff_datetime'\n",
      " 'passenger_count' 'trip_distance' 'RatecodeID' 'store_and_fwd_flag'\n",
      " 'PULocationID' 'DOLocationID' 'payment_type' 'fare_amount' 'extra'\n",
      " 'mta_tax' 'tip_amount' 'tolls_amount' 'improvement_surcharge'\n",
      " 'total_amount']\n"
     ]
    }
   ],
   "metadata": {}
  },
  {
   "cell_type": "code",
   "execution_count": null,
   "source": [],
   "outputs": [],
   "metadata": {}
  },
  {
   "cell_type": "code",
   "execution_count": 8,
   "source": [
    "#Labelling rows that have a total_amount greater than the overall mean as \"High Revenue\" \n",
    "# and labelling as \"Low Revenue\" otherwise\n",
    "\n",
    "mean = df['total_amount'].mean()\n",
    "print(mean)\n",
    "\n",
    "\n",
    "df['revenue_zone_type'] = np.where(df['total_amount']>mean, \"High Revenue\", \"Low Revenue\")\n"
   ],
   "outputs": [
    {
     "output_type": "stream",
     "name": "stdout",
     "text": [
      "16.052386377345805\n"
     ]
    }
   ],
   "metadata": {}
  },
  {
   "cell_type": "code",
   "execution_count": null,
   "source": [],
   "outputs": [],
   "metadata": {}
  },
  {
   "cell_type": "code",
   "execution_count": 9,
   "source": [
    "df['revenue_zone_type']"
   ],
   "outputs": [
    {
     "output_type": "execute_result",
     "data": {
      "text/plain": [
       "0            Low Revenue\n",
       "1            Low Revenue\n",
       "2            Low Revenue\n",
       "3           High Revenue\n",
       "4           High Revenue\n",
       "                ...     \n",
       "52381447     Low Revenue\n",
       "52381448    High Revenue\n",
       "52381449     Low Revenue\n",
       "52381450     Low Revenue\n",
       "52381451     Low Revenue\n",
       "Name: revenue_zone_type, Length: 52381452, dtype: object"
      ]
     },
     "metadata": {},
     "execution_count": 9
    }
   ],
   "metadata": {}
  },
  {
   "cell_type": "code",
   "execution_count": 10,
   "source": [
    "df['tpep_pickup_datetime'][0].split()\n",
    "\n",
    "#splitting the pickup date time field into two separate columns\n",
    "\n",
    "Splitdf = pd.DataFrame(df['tpep_pickup_datetime'].str.split(' ',1).tolist(),columns = ['Date','Time'])\n",
    "\n",
    "\n"
   ],
   "outputs": [],
   "metadata": {}
  },
  {
   "cell_type": "code",
   "execution_count": 53,
   "source": [
    "Splitdf"
   ],
   "outputs": [
    {
     "output_type": "execute_result",
     "data": {
      "text/plain": [
       "                Date      Time\n",
       "0         2018-01-01  00:21:05\n",
       "1         2018-01-01  00:44:55\n",
       "2         2018-01-01  00:08:26\n",
       "3         2018-01-01  00:20:22\n",
       "4         2018-01-01  00:09:18\n",
       "...              ...       ...\n",
       "52381447  2018-06-30  23:45:36\n",
       "52381448  2018-06-30  23:09:48\n",
       "52381449  2018-06-30  23:39:24\n",
       "52381450  2018-06-30  23:24:13\n",
       "52381451  2018-06-30  23:46:15\n",
       "\n",
       "[52381452 rows x 2 columns]"
      ],
      "text/html": [
       "<div>\n",
       "<style scoped>\n",
       "    .dataframe tbody tr th:only-of-type {\n",
       "        vertical-align: middle;\n",
       "    }\n",
       "\n",
       "    .dataframe tbody tr th {\n",
       "        vertical-align: top;\n",
       "    }\n",
       "\n",
       "    .dataframe thead th {\n",
       "        text-align: right;\n",
       "    }\n",
       "</style>\n",
       "<table border=\"1\" class=\"dataframe\">\n",
       "  <thead>\n",
       "    <tr style=\"text-align: right;\">\n",
       "      <th></th>\n",
       "      <th>Date</th>\n",
       "      <th>Time</th>\n",
       "    </tr>\n",
       "  </thead>\n",
       "  <tbody>\n",
       "    <tr>\n",
       "      <th>0</th>\n",
       "      <td>2018-01-01</td>\n",
       "      <td>00:21:05</td>\n",
       "    </tr>\n",
       "    <tr>\n",
       "      <th>1</th>\n",
       "      <td>2018-01-01</td>\n",
       "      <td>00:44:55</td>\n",
       "    </tr>\n",
       "    <tr>\n",
       "      <th>2</th>\n",
       "      <td>2018-01-01</td>\n",
       "      <td>00:08:26</td>\n",
       "    </tr>\n",
       "    <tr>\n",
       "      <th>3</th>\n",
       "      <td>2018-01-01</td>\n",
       "      <td>00:20:22</td>\n",
       "    </tr>\n",
       "    <tr>\n",
       "      <th>4</th>\n",
       "      <td>2018-01-01</td>\n",
       "      <td>00:09:18</td>\n",
       "    </tr>\n",
       "    <tr>\n",
       "      <th>...</th>\n",
       "      <td>...</td>\n",
       "      <td>...</td>\n",
       "    </tr>\n",
       "    <tr>\n",
       "      <th>52381447</th>\n",
       "      <td>2018-06-30</td>\n",
       "      <td>23:45:36</td>\n",
       "    </tr>\n",
       "    <tr>\n",
       "      <th>52381448</th>\n",
       "      <td>2018-06-30</td>\n",
       "      <td>23:09:48</td>\n",
       "    </tr>\n",
       "    <tr>\n",
       "      <th>52381449</th>\n",
       "      <td>2018-06-30</td>\n",
       "      <td>23:39:24</td>\n",
       "    </tr>\n",
       "    <tr>\n",
       "      <th>52381450</th>\n",
       "      <td>2018-06-30</td>\n",
       "      <td>23:24:13</td>\n",
       "    </tr>\n",
       "    <tr>\n",
       "      <th>52381451</th>\n",
       "      <td>2018-06-30</td>\n",
       "      <td>23:46:15</td>\n",
       "    </tr>\n",
       "  </tbody>\n",
       "</table>\n",
       "<p>52381452 rows × 2 columns</p>\n",
       "</div>"
      ]
     },
     "metadata": {},
     "execution_count": 53
    }
   ],
   "metadata": {}
  },
  {
   "cell_type": "code",
   "execution_count": 11,
   "source": [
    "#Extracting Specific features from Date and Time Dfs\n",
    "Date = pd.DataFrame(Splitdf['Date'].str.split('-',2).tolist(),columns = ['Year','Month','Day'])\n",
    "\n",
    "Time = pd.DataFrame(Splitdf['Time'].str.split(':',2).tolist(),columns = ['Hour','Minute','Second'])\n",
    "\n"
   ],
   "outputs": [],
   "metadata": {}
  },
  {
   "cell_type": "code",
   "execution_count": 12,
   "source": [
    "#Extracting Month and Hour as these are the most relevant \n",
    "#MonthHourdf = [Date['Month'],Time[\"Hour\"]]\n",
    "MonthHourdf = pd.concat([Date['Month'], Time[\"Hour\"]], axis=1, keys=['Month', 'Hour'])\n",
    "MonthHourdf"
   ],
   "outputs": [
    {
     "output_type": "execute_result",
     "data": {
      "text/plain": [
       "         Month Hour\n",
       "0           01   00\n",
       "1           01   00\n",
       "2           01   00\n",
       "3           01   00\n",
       "4           01   00\n",
       "...        ...  ...\n",
       "52381447    06   23\n",
       "52381448    06   23\n",
       "52381449    06   23\n",
       "52381450    06   23\n",
       "52381451    06   23\n",
       "\n",
       "[52381452 rows x 2 columns]"
      ],
      "text/html": [
       "<div>\n",
       "<style scoped>\n",
       "    .dataframe tbody tr th:only-of-type {\n",
       "        vertical-align: middle;\n",
       "    }\n",
       "\n",
       "    .dataframe tbody tr th {\n",
       "        vertical-align: top;\n",
       "    }\n",
       "\n",
       "    .dataframe thead th {\n",
       "        text-align: right;\n",
       "    }\n",
       "</style>\n",
       "<table border=\"1\" class=\"dataframe\">\n",
       "  <thead>\n",
       "    <tr style=\"text-align: right;\">\n",
       "      <th></th>\n",
       "      <th>Month</th>\n",
       "      <th>Hour</th>\n",
       "    </tr>\n",
       "  </thead>\n",
       "  <tbody>\n",
       "    <tr>\n",
       "      <th>0</th>\n",
       "      <td>01</td>\n",
       "      <td>00</td>\n",
       "    </tr>\n",
       "    <tr>\n",
       "      <th>1</th>\n",
       "      <td>01</td>\n",
       "      <td>00</td>\n",
       "    </tr>\n",
       "    <tr>\n",
       "      <th>2</th>\n",
       "      <td>01</td>\n",
       "      <td>00</td>\n",
       "    </tr>\n",
       "    <tr>\n",
       "      <th>3</th>\n",
       "      <td>01</td>\n",
       "      <td>00</td>\n",
       "    </tr>\n",
       "    <tr>\n",
       "      <th>4</th>\n",
       "      <td>01</td>\n",
       "      <td>00</td>\n",
       "    </tr>\n",
       "    <tr>\n",
       "      <th>...</th>\n",
       "      <td>...</td>\n",
       "      <td>...</td>\n",
       "    </tr>\n",
       "    <tr>\n",
       "      <th>52381447</th>\n",
       "      <td>06</td>\n",
       "      <td>23</td>\n",
       "    </tr>\n",
       "    <tr>\n",
       "      <th>52381448</th>\n",
       "      <td>06</td>\n",
       "      <td>23</td>\n",
       "    </tr>\n",
       "    <tr>\n",
       "      <th>52381449</th>\n",
       "      <td>06</td>\n",
       "      <td>23</td>\n",
       "    </tr>\n",
       "    <tr>\n",
       "      <th>52381450</th>\n",
       "      <td>06</td>\n",
       "      <td>23</td>\n",
       "    </tr>\n",
       "    <tr>\n",
       "      <th>52381451</th>\n",
       "      <td>06</td>\n",
       "      <td>23</td>\n",
       "    </tr>\n",
       "  </tbody>\n",
       "</table>\n",
       "<p>52381452 rows × 2 columns</p>\n",
       "</div>"
      ]
     },
     "metadata": {},
     "execution_count": 12
    }
   ],
   "metadata": {}
  },
  {
   "cell_type": "markdown",
   "source": [
    "Removing VendorID, Store_and_fwd_flag, Payment_type as they are not relevant\n",
    "\n",
    "Also removing tip_amount, mta_tax, tolls_amount as they are direct predictors of fare_amount (also they aren't feasable predictors you can't know how much a trips is going to cost before starting).\n",
    "\n",
    "Need to process date and time as these will might be more useful\n",
    "\n",
    "Convert to 2 separate columns\n",
    "\n",
    "one with the approximate hour \n",
    "the other with the date\n",
    "\n"
   ],
   "metadata": {}
  },
  {
   "cell_type": "code",
   "execution_count": null,
   "source": [],
   "outputs": [],
   "metadata": {}
  },
  {
   "cell_type": "code",
   "execution_count": 13,
   "source": [
    "\n",
    "DTnp = MonthHourdf.to_numpy()\n",
    "\n",
    "#X comprising of passenger_count, trip_distance, RatecodeID, PULocationID and mta_tax, Hour and Month\n",
    "X = fullData[:,[4,5,6,8,13]]\n",
    "\n",
    "\n",
    "\n",
    "print(X.shape)\n",
    "print(DTnp.shape)\n",
    "\n",
    "X = np.concatenate((X, DTnp),axis = 1)\n",
    "\n",
    "\n",
    "print(X.shape)\n",
    "\n",
    "#Response vector\n",
    "y = df['revenue_zone_type'].to_numpy()\n",
    "\n"
   ],
   "outputs": [
    {
     "output_type": "stream",
     "name": "stdout",
     "text": [
      "(52381452, 5)\n",
      "(52381452, 2)\n",
      "(52381452, 7)\n"
     ]
    }
   ],
   "metadata": {}
  },
  {
   "cell_type": "code",
   "execution_count": 14,
   "source": [
    "\n",
    "gnb_accs = []\n",
    "\n",
    "#splitting data into training and testing groups\n",
    "X_train, X_test, y_train, y_test = train_test_split(X, y, test_size=0.33)\n",
    "print('X_train: {} X_test: {}'.format(X_train.shape, X_test.shape))\n",
    "print('y_train: {} y_test: {}'.format(y_train.shape, y_test.shape))\n",
    "\n"
   ],
   "outputs": [
    {
     "output_type": "stream",
     "name": "stdout",
     "text": [
      "X_train: (35095572, 7) X_test: (17285880, 7)\n",
      "y_train: (35095572,) y_test: (17285880,)\n"
     ]
    }
   ],
   "metadata": {}
  },
  {
   "cell_type": "code",
   "execution_count": 17,
   "source": [
    "X_train"
   ],
   "outputs": [
    {
     "output_type": "execute_result",
     "data": {
      "text/plain": [
       "array([[1, 0.88, 1, ..., 0.5, '01', '10'],\n",
       "       [1, 2.33, 1, ..., 0.5, '01', '11'],\n",
       "       [5, 19.58, 2, ..., 0.5, '06', '18'],\n",
       "       ...,\n",
       "       [1, 0.81, 1, ..., 0.5, '03', '10'],\n",
       "       [1, 0.9, 1, ..., 0.5, '05', '16'],\n",
       "       [1, 0.9, 1, ..., 0.5, '02', '19']], dtype=object)"
      ]
     },
     "metadata": {},
     "execution_count": 17
    }
   ],
   "metadata": {}
  },
  {
   "cell_type": "code",
   "execution_count": 18,
   "source": [
    "gnb.fit(X_train, y_train)\n",
    "\n",
    "#looking at converting date/time data to just 24hour time"
   ],
   "outputs": [
    {
     "output_type": "execute_result",
     "data": {
      "text/plain": [
       "GaussianNB()"
      ]
     },
     "metadata": {},
     "execution_count": 18
    }
   ],
   "metadata": {}
  },
  {
   "cell_type": "code",
   "execution_count": null,
   "source": [],
   "outputs": [],
   "metadata": {}
  },
  {
   "cell_type": "code",
   "execution_count": 19,
   "source": [
    "#predicing test data\n",
    "prediction = gnb.predict(X_test)\n"
   ],
   "outputs": [
    {
     "output_type": "stream",
     "name": "stdout",
     "text": [
      "0.7371778006095148\n"
     ]
    }
   ],
   "metadata": {}
  },
  {
   "cell_type": "code",
   "execution_count": 28,
   "source": [
    "gnb_acc = accuracy_score(y_test,prediction)\n",
    "print(gnb_acc)"
   ],
   "outputs": [
    {
     "output_type": "stream",
     "name": "stdout",
     "text": [
      "0.7371778006095148\n"
     ]
    }
   ],
   "metadata": {}
  },
  {
   "cell_type": "code",
   "execution_count": null,
   "source": [],
   "outputs": [],
   "metadata": {}
  },
  {
   "cell_type": "code",
   "execution_count": 30,
   "source": [
    "#comparing to 0-R classifier\n",
    "\n",
    "zero_r.fit(X_train, y_train)"
   ],
   "outputs": [
    {
     "output_type": "execute_result",
     "data": {
      "text/plain": [
       "DummyClassifier(strategy='most_frequent')"
      ]
     },
     "metadata": {},
     "execution_count": 30
    }
   ],
   "metadata": {}
  },
  {
   "cell_type": "code",
   "execution_count": 31,
   "source": [
    "or_acc = accuracy_score(zero_r.predict(X_test),y_test)\n",
    "print(or_acc)"
   ],
   "outputs": [
    {
     "output_type": "stream",
     "name": "stdout",
     "text": [
      "0.7121026525696117\n"
     ]
    }
   ],
   "metadata": {}
  },
  {
   "cell_type": "markdown",
   "source": [
    "# Evaluating the model on unseen data\n"
   ],
   "metadata": {}
  },
  {
   "cell_type": "code",
   "execution_count": 32,
   "source": [
    "feb19df = pd.read_csv(\"../raw_data/yellow_tripdata_2019-02.csv\")"
   ],
   "outputs": [],
   "metadata": {}
  },
  {
   "cell_type": "code",
   "execution_count": 33,
   "source": [
    "# Assigning the type of zone\n",
    "\n",
    "\n",
    "feb19df['revenue_zone_type'] = np.where(feb19df['total_amount']>mean, \"High Revenue\", \"Low Revenue\")\n"
   ],
   "outputs": [],
   "metadata": {}
  },
  {
   "cell_type": "code",
   "execution_count": 34,
   "source": [
    "feb19df['tpep_pickup_datetime'][0].split()\n",
    "\n",
    "#splitting the pickup date time field into two separate columns\n",
    "\n",
    "Splitdf = pd.DataFrame(feb19df['tpep_pickup_datetime'].str.split(' ',1).tolist(),columns = ['Date','Time'])\n",
    "\n",
    "\n",
    "#Extracting Specific features from Date and Time Dfs\n",
    "Date = pd.DataFrame(Splitdf['Date'].str.split('-',2).tolist(),columns = ['Year','Month','Day'])\n",
    "\n",
    "Time = pd.DataFrame(Splitdf['Time'].str.split(':',2).tolist(),columns = ['Hour','Minute','Second'])\n",
    "\n",
    "#Extracting Month and Hour as these are the most relevant \n",
    "#MonthHourdf = [Date['Month'],Time[\"Hour\"]]\n",
    "MonthHourdf = pd.concat([Date['Month'], Time[\"Hour\"]], axis=1, keys=['Month', 'Hour'])\n",
    "print(MonthHourdf)\n",
    "\n",
    "\n",
    "DTnp19 = MonthHourdf.to_numpy()"
   ],
   "outputs": [
    {
     "output_type": "stream",
     "name": "stdout",
     "text": [
      "        Month Hour\n",
      "0          02   00\n",
      "1          02   00\n",
      "2          02   00\n",
      "3          02   00\n",
      "4          02   00\n",
      "...       ...  ...\n",
      "7019370    02   23\n",
      "7019371    02   22\n",
      "7019372    02   23\n",
      "7019373    02   23\n",
      "7019374    02   23\n",
      "\n",
      "[7019375 rows x 2 columns]\n"
     ]
    }
   ],
   "metadata": {}
  },
  {
   "cell_type": "code",
   "execution_count": 35,
   "source": [
    "feb19df"
   ],
   "outputs": [
    {
     "output_type": "execute_result",
     "data": {
      "text/plain": [
       "         VendorID tpep_pickup_datetime tpep_dropoff_datetime  passenger_count  \\\n",
       "0               1  2019-02-01 00:59:04   2019-02-01 01:07:27                1   \n",
       "1               1  2019-02-01 00:33:09   2019-02-01 01:03:58                1   \n",
       "2               1  2019-02-01 00:09:03   2019-02-01 00:09:16                1   \n",
       "3               1  2019-02-01 00:45:38   2019-02-01 00:51:10                1   \n",
       "4               1  2019-02-01 00:25:30   2019-02-01 00:28:14                1   \n",
       "...           ...                  ...                   ...              ...   \n",
       "7019370         2  2019-02-28 23:29:08   2019-02-28 23:29:11                1   \n",
       "7019371         2  2019-02-28 22:48:47   2019-02-28 23:50:19                1   \n",
       "7019372         2  2019-02-28 23:41:23   2019-02-28 23:42:23                1   \n",
       "7019373         2  2019-02-28 23:12:52   2019-02-28 23:14:16                1   \n",
       "7019374         2  2019-02-28 23:10:35   2019-02-28 23:10:37                1   \n",
       "\n",
       "         trip_distance  RatecodeID store_and_fwd_flag  PULocationID  \\\n",
       "0                  2.1           1                  N            48   \n",
       "1                  9.8           1                  N           230   \n",
       "2                  0.0           1                  N           145   \n",
       "3                  0.8           1                  N            95   \n",
       "4                  0.8           1                  N           140   \n",
       "...                ...         ...                ...           ...   \n",
       "7019370            0.0           1                  N           193   \n",
       "7019371            0.0           1                  N           141   \n",
       "7019372            0.0           1                  N           264   \n",
       "7019373            0.0           1                  N           264   \n",
       "7019374            0.0           1                  N           264   \n",
       "\n",
       "         DOLocationID  payment_type  fare_amount  extra  mta_tax  tip_amount  \\\n",
       "0                 234             1          9.0    0.5      0.5         2.0   \n",
       "1                  93             2         32.0    0.5      0.5         0.0   \n",
       "2                 145             2          2.5    0.5      0.5         0.0   \n",
       "3                  95             2          5.5    0.5      0.5         0.0   \n",
       "4                 263             2          5.0    0.5      0.5         0.0   \n",
       "...               ...           ...          ...    ...      ...         ...   \n",
       "7019370           193             1          0.0    0.0      0.0         0.0   \n",
       "7019371           193             2          0.0    0.0      0.0         0.0   \n",
       "7019372           264             1          0.0    0.0      0.0         0.0   \n",
       "7019373           193             1          0.0    0.0      0.0         0.0   \n",
       "7019374           264             2          0.0    0.0      0.0         0.0   \n",
       "\n",
       "         tolls_amount  improvement_surcharge  total_amount  \\\n",
       "0                 0.0                    0.3          12.3   \n",
       "1                 0.0                    0.3          33.3   \n",
       "2                 0.0                    0.3           3.8   \n",
       "3                 0.0                    0.3           6.8   \n",
       "4                 0.0                    0.3           6.3   \n",
       "...               ...                    ...           ...   \n",
       "7019370           0.0                    0.0           0.0   \n",
       "7019371           0.0                    0.0           0.0   \n",
       "7019372           0.0                    0.0           0.0   \n",
       "7019373           0.0                    0.0           0.0   \n",
       "7019374           0.0                    0.0           0.0   \n",
       "\n",
       "         congestion_surcharge revenue_zone_type  \n",
       "0                         0.0       Low Revenue  \n",
       "1                         0.0      High Revenue  \n",
       "2                         0.0       Low Revenue  \n",
       "3                         0.0       Low Revenue  \n",
       "4                         0.0       Low Revenue  \n",
       "...                       ...               ...  \n",
       "7019370                   0.0       Low Revenue  \n",
       "7019371                   2.5       Low Revenue  \n",
       "7019372                   0.0       Low Revenue  \n",
       "7019373                   0.0       Low Revenue  \n",
       "7019374                   0.0       Low Revenue  \n",
       "\n",
       "[7019375 rows x 19 columns]"
      ],
      "text/html": [
       "<div>\n",
       "<style scoped>\n",
       "    .dataframe tbody tr th:only-of-type {\n",
       "        vertical-align: middle;\n",
       "    }\n",
       "\n",
       "    .dataframe tbody tr th {\n",
       "        vertical-align: top;\n",
       "    }\n",
       "\n",
       "    .dataframe thead th {\n",
       "        text-align: right;\n",
       "    }\n",
       "</style>\n",
       "<table border=\"1\" class=\"dataframe\">\n",
       "  <thead>\n",
       "    <tr style=\"text-align: right;\">\n",
       "      <th></th>\n",
       "      <th>VendorID</th>\n",
       "      <th>tpep_pickup_datetime</th>\n",
       "      <th>tpep_dropoff_datetime</th>\n",
       "      <th>passenger_count</th>\n",
       "      <th>trip_distance</th>\n",
       "      <th>RatecodeID</th>\n",
       "      <th>store_and_fwd_flag</th>\n",
       "      <th>PULocationID</th>\n",
       "      <th>DOLocationID</th>\n",
       "      <th>payment_type</th>\n",
       "      <th>fare_amount</th>\n",
       "      <th>extra</th>\n",
       "      <th>mta_tax</th>\n",
       "      <th>tip_amount</th>\n",
       "      <th>tolls_amount</th>\n",
       "      <th>improvement_surcharge</th>\n",
       "      <th>total_amount</th>\n",
       "      <th>congestion_surcharge</th>\n",
       "      <th>revenue_zone_type</th>\n",
       "    </tr>\n",
       "  </thead>\n",
       "  <tbody>\n",
       "    <tr>\n",
       "      <th>0</th>\n",
       "      <td>1</td>\n",
       "      <td>2019-02-01 00:59:04</td>\n",
       "      <td>2019-02-01 01:07:27</td>\n",
       "      <td>1</td>\n",
       "      <td>2.1</td>\n",
       "      <td>1</td>\n",
       "      <td>N</td>\n",
       "      <td>48</td>\n",
       "      <td>234</td>\n",
       "      <td>1</td>\n",
       "      <td>9.0</td>\n",
       "      <td>0.5</td>\n",
       "      <td>0.5</td>\n",
       "      <td>2.0</td>\n",
       "      <td>0.0</td>\n",
       "      <td>0.3</td>\n",
       "      <td>12.3</td>\n",
       "      <td>0.0</td>\n",
       "      <td>Low Revenue</td>\n",
       "    </tr>\n",
       "    <tr>\n",
       "      <th>1</th>\n",
       "      <td>1</td>\n",
       "      <td>2019-02-01 00:33:09</td>\n",
       "      <td>2019-02-01 01:03:58</td>\n",
       "      <td>1</td>\n",
       "      <td>9.8</td>\n",
       "      <td>1</td>\n",
       "      <td>N</td>\n",
       "      <td>230</td>\n",
       "      <td>93</td>\n",
       "      <td>2</td>\n",
       "      <td>32.0</td>\n",
       "      <td>0.5</td>\n",
       "      <td>0.5</td>\n",
       "      <td>0.0</td>\n",
       "      <td>0.0</td>\n",
       "      <td>0.3</td>\n",
       "      <td>33.3</td>\n",
       "      <td>0.0</td>\n",
       "      <td>High Revenue</td>\n",
       "    </tr>\n",
       "    <tr>\n",
       "      <th>2</th>\n",
       "      <td>1</td>\n",
       "      <td>2019-02-01 00:09:03</td>\n",
       "      <td>2019-02-01 00:09:16</td>\n",
       "      <td>1</td>\n",
       "      <td>0.0</td>\n",
       "      <td>1</td>\n",
       "      <td>N</td>\n",
       "      <td>145</td>\n",
       "      <td>145</td>\n",
       "      <td>2</td>\n",
       "      <td>2.5</td>\n",
       "      <td>0.5</td>\n",
       "      <td>0.5</td>\n",
       "      <td>0.0</td>\n",
       "      <td>0.0</td>\n",
       "      <td>0.3</td>\n",
       "      <td>3.8</td>\n",
       "      <td>0.0</td>\n",
       "      <td>Low Revenue</td>\n",
       "    </tr>\n",
       "    <tr>\n",
       "      <th>3</th>\n",
       "      <td>1</td>\n",
       "      <td>2019-02-01 00:45:38</td>\n",
       "      <td>2019-02-01 00:51:10</td>\n",
       "      <td>1</td>\n",
       "      <td>0.8</td>\n",
       "      <td>1</td>\n",
       "      <td>N</td>\n",
       "      <td>95</td>\n",
       "      <td>95</td>\n",
       "      <td>2</td>\n",
       "      <td>5.5</td>\n",
       "      <td>0.5</td>\n",
       "      <td>0.5</td>\n",
       "      <td>0.0</td>\n",
       "      <td>0.0</td>\n",
       "      <td>0.3</td>\n",
       "      <td>6.8</td>\n",
       "      <td>0.0</td>\n",
       "      <td>Low Revenue</td>\n",
       "    </tr>\n",
       "    <tr>\n",
       "      <th>4</th>\n",
       "      <td>1</td>\n",
       "      <td>2019-02-01 00:25:30</td>\n",
       "      <td>2019-02-01 00:28:14</td>\n",
       "      <td>1</td>\n",
       "      <td>0.8</td>\n",
       "      <td>1</td>\n",
       "      <td>N</td>\n",
       "      <td>140</td>\n",
       "      <td>263</td>\n",
       "      <td>2</td>\n",
       "      <td>5.0</td>\n",
       "      <td>0.5</td>\n",
       "      <td>0.5</td>\n",
       "      <td>0.0</td>\n",
       "      <td>0.0</td>\n",
       "      <td>0.3</td>\n",
       "      <td>6.3</td>\n",
       "      <td>0.0</td>\n",
       "      <td>Low Revenue</td>\n",
       "    </tr>\n",
       "    <tr>\n",
       "      <th>...</th>\n",
       "      <td>...</td>\n",
       "      <td>...</td>\n",
       "      <td>...</td>\n",
       "      <td>...</td>\n",
       "      <td>...</td>\n",
       "      <td>...</td>\n",
       "      <td>...</td>\n",
       "      <td>...</td>\n",
       "      <td>...</td>\n",
       "      <td>...</td>\n",
       "      <td>...</td>\n",
       "      <td>...</td>\n",
       "      <td>...</td>\n",
       "      <td>...</td>\n",
       "      <td>...</td>\n",
       "      <td>...</td>\n",
       "      <td>...</td>\n",
       "      <td>...</td>\n",
       "      <td>...</td>\n",
       "    </tr>\n",
       "    <tr>\n",
       "      <th>7019370</th>\n",
       "      <td>2</td>\n",
       "      <td>2019-02-28 23:29:08</td>\n",
       "      <td>2019-02-28 23:29:11</td>\n",
       "      <td>1</td>\n",
       "      <td>0.0</td>\n",
       "      <td>1</td>\n",
       "      <td>N</td>\n",
       "      <td>193</td>\n",
       "      <td>193</td>\n",
       "      <td>1</td>\n",
       "      <td>0.0</td>\n",
       "      <td>0.0</td>\n",
       "      <td>0.0</td>\n",
       "      <td>0.0</td>\n",
       "      <td>0.0</td>\n",
       "      <td>0.0</td>\n",
       "      <td>0.0</td>\n",
       "      <td>0.0</td>\n",
       "      <td>Low Revenue</td>\n",
       "    </tr>\n",
       "    <tr>\n",
       "      <th>7019371</th>\n",
       "      <td>2</td>\n",
       "      <td>2019-02-28 22:48:47</td>\n",
       "      <td>2019-02-28 23:50:19</td>\n",
       "      <td>1</td>\n",
       "      <td>0.0</td>\n",
       "      <td>1</td>\n",
       "      <td>N</td>\n",
       "      <td>141</td>\n",
       "      <td>193</td>\n",
       "      <td>2</td>\n",
       "      <td>0.0</td>\n",
       "      <td>0.0</td>\n",
       "      <td>0.0</td>\n",
       "      <td>0.0</td>\n",
       "      <td>0.0</td>\n",
       "      <td>0.0</td>\n",
       "      <td>0.0</td>\n",
       "      <td>2.5</td>\n",
       "      <td>Low Revenue</td>\n",
       "    </tr>\n",
       "    <tr>\n",
       "      <th>7019372</th>\n",
       "      <td>2</td>\n",
       "      <td>2019-02-28 23:41:23</td>\n",
       "      <td>2019-02-28 23:42:23</td>\n",
       "      <td>1</td>\n",
       "      <td>0.0</td>\n",
       "      <td>1</td>\n",
       "      <td>N</td>\n",
       "      <td>264</td>\n",
       "      <td>264</td>\n",
       "      <td>1</td>\n",
       "      <td>0.0</td>\n",
       "      <td>0.0</td>\n",
       "      <td>0.0</td>\n",
       "      <td>0.0</td>\n",
       "      <td>0.0</td>\n",
       "      <td>0.0</td>\n",
       "      <td>0.0</td>\n",
       "      <td>0.0</td>\n",
       "      <td>Low Revenue</td>\n",
       "    </tr>\n",
       "    <tr>\n",
       "      <th>7019373</th>\n",
       "      <td>2</td>\n",
       "      <td>2019-02-28 23:12:52</td>\n",
       "      <td>2019-02-28 23:14:16</td>\n",
       "      <td>1</td>\n",
       "      <td>0.0</td>\n",
       "      <td>1</td>\n",
       "      <td>N</td>\n",
       "      <td>264</td>\n",
       "      <td>193</td>\n",
       "      <td>1</td>\n",
       "      <td>0.0</td>\n",
       "      <td>0.0</td>\n",
       "      <td>0.0</td>\n",
       "      <td>0.0</td>\n",
       "      <td>0.0</td>\n",
       "      <td>0.0</td>\n",
       "      <td>0.0</td>\n",
       "      <td>0.0</td>\n",
       "      <td>Low Revenue</td>\n",
       "    </tr>\n",
       "    <tr>\n",
       "      <th>7019374</th>\n",
       "      <td>2</td>\n",
       "      <td>2019-02-28 23:10:35</td>\n",
       "      <td>2019-02-28 23:10:37</td>\n",
       "      <td>1</td>\n",
       "      <td>0.0</td>\n",
       "      <td>1</td>\n",
       "      <td>N</td>\n",
       "      <td>264</td>\n",
       "      <td>264</td>\n",
       "      <td>2</td>\n",
       "      <td>0.0</td>\n",
       "      <td>0.0</td>\n",
       "      <td>0.0</td>\n",
       "      <td>0.0</td>\n",
       "      <td>0.0</td>\n",
       "      <td>0.0</td>\n",
       "      <td>0.0</td>\n",
       "      <td>0.0</td>\n",
       "      <td>Low Revenue</td>\n",
       "    </tr>\n",
       "  </tbody>\n",
       "</table>\n",
       "<p>7019375 rows × 19 columns</p>\n",
       "</div>"
      ]
     },
     "metadata": {},
     "execution_count": 35
    }
   ],
   "metadata": {}
  },
  {
   "cell_type": "code",
   "execution_count": 36,
   "source": [
    "# Extracting the rows\n",
    "\n",
    "full2019 = feb19df.to_numpy()\n",
    "\n",
    "print(feb19df.columns)\n",
    "\n",
    "X19 = full2019[:,[3,4,5,7,12]]\n",
    "\n",
    "\n",
    "print(X.shape)\n",
    "print(DTnp19.shape)\n",
    "\n",
    "X19 = np.concatenate((X19, DTnp19),axis = 1)\n",
    "\n",
    "\n",
    "#print(X.shape)\n",
    "\n",
    "y19 = feb19df['revenue_zone_type'].to_numpy()"
   ],
   "outputs": [
    {
     "output_type": "stream",
     "name": "stdout",
     "text": [
      "Index(['VendorID', 'tpep_pickup_datetime', 'tpep_dropoff_datetime',\n",
      "       'passenger_count', 'trip_distance', 'RatecodeID', 'store_and_fwd_flag',\n",
      "       'PULocationID', 'DOLocationID', 'payment_type', 'fare_amount', 'extra',\n",
      "       'mta_tax', 'tip_amount', 'tolls_amount', 'improvement_surcharge',\n",
      "       'total_amount', 'congestion_surcharge', 'revenue_zone_type'],\n",
      "      dtype='object')\n",
      "(52381452, 7)\n",
      "(7019375, 2)\n"
     ]
    }
   ],
   "metadata": {}
  },
  {
   "cell_type": "code",
   "execution_count": 37,
   "source": [
    "#Ensuring the shapes are the same\n",
    "print(X19.shape)\n",
    "print(y19.shape)"
   ],
   "outputs": [
    {
     "output_type": "stream",
     "name": "stdout",
     "text": [
      "(7019375, 7)\n",
      "(7019375,)\n"
     ]
    }
   ],
   "metadata": {}
  },
  {
   "cell_type": "code",
   "execution_count": 39,
   "source": [
    "gnb_acc = accuracy_score(y19,gnb.predict(X19))\n",
    "print(gnb_acc)"
   ],
   "outputs": [
    {
     "output_type": "stream",
     "name": "stdout",
     "text": [
      "0.6409372629329534\n"
     ]
    }
   ],
   "metadata": {}
  },
  {
   "cell_type": "code",
   "execution_count": 40,
   "source": [
    "\n",
    "or2019_acc = accuracy_score(y19,zero_r.predict(X19))\n",
    "print(or2019_acc)"
   ],
   "outputs": [
    {
     "output_type": "stream",
     "name": "stdout",
     "text": [
      "0.6120519277001157\n"
     ]
    }
   ],
   "metadata": {}
  },
  {
   "cell_type": "code",
   "execution_count": null,
   "source": [],
   "outputs": [],
   "metadata": {}
  }
 ],
 "metadata": {
  "kernelspec": {
   "display_name": "Python 3 (Anaconda 3)",
   "language": "python",
   "name": "python3"
  },
  "language_info": {
   "codemirror_mode": {
    "name": "ipython",
    "version": 3
   },
   "file_extension": ".py",
   "mimetype": "text/x-python",
   "name": "python",
   "nbconvert_exporter": "python",
   "pygments_lexer": "ipython3",
   "version": "3.8.2"
  }
 },
 "nbformat": 4,
 "nbformat_minor": 4
}