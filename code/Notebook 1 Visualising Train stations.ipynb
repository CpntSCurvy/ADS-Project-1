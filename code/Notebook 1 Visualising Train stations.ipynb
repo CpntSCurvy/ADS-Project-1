{
 "cells": [
  {
   "cell_type": "code",
   "execution_count": 26,
   "source": [
    "import pandas as pd\n",
    "import numpy as np\n",
    "import seaborn as sns\n",
    "import matplotlib.pyplot as plt\n",
    "\n",
    "\n",
    "# Filtering out warnings\n",
    "import warnings\n",
    "warnings.filterwarnings(\"ignore\")\n",
    "\n",
    "\n",
    "#importing visualisation tools \n",
    "import folium"
   ],
   "outputs": [],
   "metadata": {}
  },
  {
   "cell_type": "code",
   "execution_count": 27,
   "source": [
    "\n",
    "trainDf = pd.read_csv(\"../raw_data/train_station_location.csv\")\n",
    "\n",
    "\n",
    "COORDS = ['Station Latitude', 'Station Longitude']"
   ],
   "outputs": [
    {
     "output_type": "stream",
     "name": "stdout",
     "text": [
      "8 Avenue             183\n",
      "Broadway-7th Ave     176\n",
      "Lexington            147\n",
      "Queens Boulevard     130\n",
      "6 Avenue             121\n",
      "Broadway             101\n",
      "Flushing              80\n",
      "Canarsie              70\n",
      "Fulton                69\n",
      "White Plains Road     66\n",
      "Broadway Jamaica      56\n",
      "Pelham                55\n",
      "Concourse             53\n",
      "4 Avenue              52\n",
      "Crosstown             48\n",
      "Jerome                47\n",
      "West End              44\n",
      "Brighton              44\n",
      "Rockaway              40\n",
      "Eastern Parkway       36\n",
      "Culver                33\n",
      "Nostrand              26\n",
      "Nassau                22\n",
      "Liberty               21\n",
      "Astoria               20\n",
      "Lenox                 19\n",
      "Clark                 17\n",
      "Archer Av             17\n",
      "New Lots              16\n",
      "Sea Beach             15\n",
      "Myrtle                11\n",
      "63rd Street           11\n",
      "42nd St Shuttle        8\n",
      "Dyre Av                7\n",
      "Franklin               4\n",
      "Coney Island           3\n",
      "Name: Line, dtype: int64\n"
     ]
    }
   ],
   "metadata": {}
  },
  {
   "cell_type": "code",
   "execution_count": 28,
   "source": [
    "mcoords = trainDf[COORDS].describe().loc[[\"50%\"]].values[0]\n",
    "print(mcoords)\n"
   ],
   "outputs": [
    {
     "output_type": "stream",
     "name": "stdout",
     "text": [
      "[ 40.733422  -73.9581445]\n"
     ]
    }
   ],
   "metadata": {}
  },
  {
   "cell_type": "markdown",
   "source": [
    "# Circles"
   ],
   "metadata": {}
  },
  {
   "cell_type": "code",
   "execution_count": null,
   "source": [
    "#Visualise the train stations on a map \n",
    "\n",
    "trainStations = folium.Map(location=mcoords, tiles=\"Stamen Terrain\", zoom_start=10)\n",
    "\n",
    "\n",
    "\n",
    "#Drawing circles to represent train stations on the map\n",
    "for index, row in trainDf.iterrows():\n",
    "    \n",
    "    folium.Circle(location = [row['Station Latitude'], row['Station Longitude']], radius = 250, fill=True,color = '#FF0000').add_to(trainStations)\n",
    "\n",
    "#40.660397         -73.998091\n",
    "\n",
    "trainStations.save('../plots/trainStations.html')\n",
    "trainStations"
   ],
   "outputs": [],
   "metadata": {}
  }
 ],
 "metadata": {
  "kernelspec": {
   "display_name": "Python 3 (Anaconda 3)",
   "language": "python",
   "name": "python3"
  },
  "language_info": {
   "codemirror_mode": {
    "name": "ipython",
    "version": 3
   },
   "file_extension": ".py",
   "mimetype": "text/x-python",
   "name": "python",
   "nbconvert_exporter": "python",
   "pygments_lexer": "ipython3",
   "version": "3.8.2"
  }
 },
 "nbformat": 4,
 "nbformat_minor": 4
}