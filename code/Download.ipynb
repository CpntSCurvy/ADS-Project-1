{
 "cells": [
  {
   "cell_type": "markdown",
   "source": [
    "# Downloading Month Data"
   ],
   "metadata": {}
  },
  {
   "cell_type": "code",
   "execution_count": 1,
   "source": [
    "from os.path import getsize\n",
    "from urllib.request import urlretrieve\n",
    "import zipfile"
   ],
   "outputs": [],
   "metadata": {}
  },
  {
   "cell_type": "code",
   "execution_count": 5,
   "source": [
    "\n",
    "# Downloading 6 months worth of data\n",
    "\n",
    "\n",
    "# template for the type of taxi / year you wish to download\n",
    "fname_template = \"yellow_tripdata_2018\"\n",
    "#https://s3.amazonaws.com/nyc-tlc/misc/taxi_zones.zip\n",
    "\n",
    "# change range(x, y) to be the months you want\n",
    "for m in range(1, 7):\n",
    "    month = str(m).zfill(2)\n",
    "    out = f'{fname_template}-{month}.csv'\n",
    "    url = f\"https://s3.amazonaws.com/nyc-tlc/trip+data/{out}\"\n",
    "    urlretrieve(url, f\"../raw_data/{out}\")\n",
    "\n",
    "    print(f\"Done downloading to ../raw_data!\")"
   ],
   "outputs": [
    {
     "output_type": "stream",
     "name": "stdout",
     "text": [
      "Done downloading to ../raw_data!\n",
      "Done downloading to ../raw_data!\n",
      "Done downloading to ../raw_data!\n",
      "Done downloading to ../raw_data!\n",
      "Done downloading to ../raw_data!\n",
      "Done downloading to ../raw_data!\n"
     ]
    }
   ],
   "metadata": {}
  },
  {
   "cell_type": "code",
   "execution_count": 6,
   "source": [
    "# Dowloading lookup table data\n",
    "\n",
    "\n",
    "url = f\"https://s3.amazonaws.com/nyc-tlc/misc/taxi+_zone_lookup.csv\"\n",
    "urlretrieve(url, \"../raw_data/taxi_zone_lookup.csv\")\n",
    "print(\"Done downloading to ../raw_data!\")\n"
   ],
   "outputs": [
    {
     "output_type": "stream",
     "name": "stdout",
     "text": [
      "Done downloading to ../raw_data!\n"
     ]
    }
   ],
   "metadata": {}
  },
  {
   "cell_type": "code",
   "execution_count": 7,
   "source": [
    "# Downloading 2019 Janurary data for prediction\n",
    "\n",
    "url = \"https://s3.amazonaws.com/nyc-tlc/trip+data/yellow_tripdata_2019-02.csv\"\n",
    "urlretrieve(url, \"../raw_data/yellow_tripdata_2019-02.csv\")\n",
    "print(\"Done downloading to ../raw_data!\")"
   ],
   "outputs": [
    {
     "output_type": "stream",
     "name": "stdout",
     "text": [
      "Done downloading to ../raw_data!\n"
     ]
    }
   ],
   "metadata": {}
  },
  {
   "cell_type": "markdown",
   "source": [
    "# Downloading and Extracting Shapefile data"
   ],
   "metadata": {}
  },
  {
   "cell_type": "code",
   "execution_count": 8,
   "source": [
    "\n",
    "#Downloading Zip file  \n",
    "\n",
    "url = f\"https://s3.amazonaws.com/nyc-tlc/misc/taxi_zones.zip\"\n",
    "urlretrieve(url, \"../raw_data/taxi_zones.zip\")\n",
    "\n",
    "print(f\"Done downloading zip file\")"
   ],
   "outputs": [
    {
     "output_type": "stream",
     "name": "stdout",
     "text": [
      "Done downloading zip file\n"
     ]
    }
   ],
   "metadata": {}
  },
  {
   "cell_type": "code",
   "execution_count": 9,
   "source": [
    "\n",
    "#reading zip file\n",
    "with zipfile.ZipFile(\"../raw_data/taxi_zones.zip\", 'r') as zip:\n",
    "    # printing all the contents of the zip file\n",
    "    zip.printdir()\n",
    "  \n",
    "    # extracting the files\n",
    "    print('Extracting all files to raw_data folder...')\n",
    "    zip.extractall(path=\"../raw_data\")\n",
    "    \n",
    "    print('Completed shapefile extraction!')\n",
    "    \n",
    "    \n",
    "    \n",
    "    "
   ],
   "outputs": [
    {
     "output_type": "stream",
     "name": "stdout",
     "text": [
      "File Name                                             Modified             Size\n",
      "taxi_zones.prj                                 2015-09-21 13:58:24          562\n",
      "taxi_zones.dbf                                 2015-09-21 14:03:58       147506\n",
      "taxi_zones.shp                                 2015-09-21 14:03:40      1586264\n",
      "taxi_zones.shp.xml                             2015-09-21 14:03:40          907\n",
      "taxi_zones.shx                                 2015-09-21 14:03:40         2204\n",
      "taxi_zones.sbn                                 2015-09-21 13:58:26         2908\n",
      "taxi_zones.sbx                                 2015-09-21 13:58:26          348\n",
      "Extracting all files to raw_data folder...\n",
      "Completed shapefile extraction!\n"
     ]
    }
   ],
   "metadata": {}
  },
  {
   "cell_type": "markdown",
   "source": [
    "# Downloading additional Trainstation Dataset"
   ],
   "metadata": {}
  },
  {
   "cell_type": "code",
   "execution_count": 10,
   "source": [
    "url =\"https://data.ny.gov/api/views/i9wp-a4ja/rows.csv?accessType=DOWNLOAD&sorting=true\"\n",
    " \n",
    "urlretrieve(url, \"../raw_data/train_station_location.csv\")\n",
    "\n",
    "print(f\"Done downloading train station data\")"
   ],
   "outputs": [
    {
     "output_type": "stream",
     "name": "stdout",
     "text": [
      "Done downloading train station data\n"
     ]
    }
   ],
   "metadata": {}
  }
 ],
 "metadata": {
  "kernelspec": {
   "display_name": "Python 3 (Anaconda 3)",
   "language": "python",
   "name": "python3"
  },
  "language_info": {
   "codemirror_mode": {
    "name": "ipython",
    "version": 3
   },
   "file_extension": ".py",
   "mimetype": "text/x-python",
   "name": "python",
   "nbconvert_exporter": "python",
   "pygments_lexer": "ipython3",
   "version": "3.8.2"
  }
 },
 "nbformat": 4,
 "nbformat_minor": 4
}